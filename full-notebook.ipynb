{
 "cells": [
  {
   "cell_type": "code",
   "execution_count": 1,
   "metadata": {},
   "outputs": [],
   "source": [
    "import csv, os, zipfile, datetime, re\n",
    "import pandas as pd\n",
    "import numpy as np\n",
    "from sklearn.linear_model import LogisticRegression\n",
    "from sklearn.datasets import load_breast_cancer\n",
    "from sklearn.model_selection import train_test_split\n",
    "import matplotlib.pyplot as plt\n",
    "%matplotlib inline\n",
    "from sklearn.metrics import roc_auc_score\n",
    "from sklearn.metrics import roc_curve\n",
    "import statsmodels.api as sm"
   ]
  },
  {
   "cell_type": "markdown",
   "metadata": {},
   "source": [
    "### Problem\n",
    "\n",
    "In the NFL, gaining even a small edge in anticipating an opponent's next move can dramatically impact game outcomes. One of the most valuable predictive insights is whether the offense will run or pass on a given play. My objective is to build a model that predicts this play type in real time. By doing so, the defensive coaching staff can make more informed decisions about substitutions, alignments, and tactical assignments. This predictive advantage could improve overall defensive efficiency and responsiveness during critical moments.\n"
   ]
  },
  {
   "cell_type": "code",
   "execution_count": null,
   "metadata": {},
   "outputs": [
    {
     "name": "stderr",
     "output_type": "stream",
     "text": [
      "/var/folders/0p/p8g1hvy94_q9bd228nd5dfyr0000gn/T/ipykernel_37699/2308403348.py:2: DtypeWarning: Columns (42,166,167,168,169,174,175,178,179,182,183,188,189,190,191,194,195,203,204,205,218,219,220,231,232,233,238,240,241,249) have mixed types. Specify dtype option on import or set low_memory=False.\n",
      "  plays = pd.read_csv(\"files/input/NFL Play by Play 2009-2018 (v5).csv\")\n"
     ]
    }
   ],
   "source": [
    "#\n",
    "\n",
    "\n",
    "#Data Source: https://www.kaggle.com/datasets/maxhorowitz/nflplaybyplay2009to2016\n",
    "plays = pd.read_csv(\"files/input/NFL Play by Play 2009-2018 (v5).csv\")\n",
    "\n"
   ]
  },
  {
   "cell_type": "code",
   "execution_count": 3,
   "metadata": {},
   "outputs": [],
   "source": [
    "#CONSTANTS\n",
    "\n",
    "KEEP_COLUMNS = {\n",
    "    \"play_id\": \"Int64\",\n",
    "    \"game_id\": \"string\",\n",
    "    \"home_team\": \"string\",\n",
    "    \"away_team\": \"string\",\n",
    "    \"posteam\": \"string\",\n",
    "    \"posteam_type\": \"string\",\n",
    "    \"side_of_field\": \"string\",\n",
    "    \"yardline_100\": \"Int64\",\n",
    "    \"game_date\": datetime,\n",
    "    \"half_seconds_remaining\": \"Int64\",\n",
    "    \"game_half\": \"string\",\n",
    "    \"drive\": \"Int64\",\n",
    "    \"down\": \"Int64\", \n",
    "    \"goal_to_go\": \"Int64\", \n",
    "    \"ydsnet\": \"Int64\",\n",
    "    \"desc\": \"string\",\n",
    "    \"ydstogo\": \"Int64\", \n",
    "    \"play_type\": \"string\",\n",
    "    \"yards_gained\": \"Int64\",\n",
    "    \"shotgun\": \t\"Int64\", \n",
    "    \"no_huddle\": \t\"Int64\",\n",
    "    \"qb_dropback\": \t\"Int64\",\n",
    "    \"qb_scramble\": \"Int64\",\n",
    "    \"pass_length\": \"Int64\", \n",
    "    \"pass_location\": \"string\",\n",
    "    \"run_location\": \"string\",\n",
    "    \"run_gap\": \"string\", \n",
    "    \"posteam_timeouts_remaining\": \"Int64\", \n",
    "    \"defteam_timeouts_remaining\": \"Int64\", \n",
    "    \"posteam_score\": \"Int64\", \n",
    "    \"defteam_score\": \"Int64\",\n",
    "    \"score_differential\": \"Int64\",\n",
    "\n",
    "}"
   ]
  },
  {
   "cell_type": "code",
   "execution_count": 4,
   "metadata": {},
   "outputs": [
    {
     "name": "stdout",
     "output_type": "stream",
     "text": [
      "449371\n"
     ]
    }
   ],
   "source": [
    "#Some data subsets for further explorations\n",
    "\n",
    "plays.sample(1000).to_csv(\"files/output/full_preview.csv\", index=False)\n",
    "#print(\"\\n\".join(f\"{i}. {c}\" for i,c in enumerate(plays.columns)))\n",
    "plays[KEEP_COLUMNS.keys()].sample(1000).to_csv(\"files/output/filtered_preview.csv\", index=False)\n",
    "plays[plays[\"game_id\"] == 2009091000].to_csv(\"files/output/one_game_preview.csv\", index=False)\n",
    "print(len(plays))\n",
    "plays[\"play_id\"] = range(1, len(plays) + 1)\n",
    "plays[\"yards_gained\"] = plays[\"yards_gained\"].fillna(0)\n",
    "\n"
   ]
  },
  {
   "cell_type": "markdown",
   "metadata": {},
   "source": [
    "### Exploratory Data Analysis (EDA)\n",
    "\n",
    "During EDA, I reviewed the available dataset and removed any previously performed analysis to ensure a clean slate. I converted string-based categorical labels into integer representations for model compatibility. I also calculated cumulative statistics to uncover trends and patterns across drives and games. Null values were filled with appropriate defaults or estimates, and irrelevant or incomplete plays were removed to improve data quality. This preprocessing step ensured that the remaining data was both consistent and meaningful for modeling.\n"
   ]
  },
  {
   "cell_type": "code",
   "execution_count": 5,
   "metadata": {},
   "outputs": [],
   "source": [
    "#Cleanup\n",
    "\n",
    "#REMOVE UNNECESSARY COLUMNS\n",
    "plays = plays[KEEP_COLUMNS.keys()]\n",
    "for col,dtype in KEEP_COLUMNS.items():\n",
    "    if dtype is datetime:\n",
    "        plays[col] = pd.to_datetime(plays[col])\n",
    "    else:\n",
    "        plays[col] = plays[col].astype(dtype, errors=\"ignore\")\n",
    "        \n",
    "plays[\"play_type\"] = plays[\"play_type\"].fillna(\"no_play\")\n",
    "plays[\"qb_dropback\"] = plays[\"qb_dropback\"].fillna(0)"
   ]
  },
  {
   "cell_type": "code",
   "execution_count": 6,
   "metadata": {},
   "outputs": [],
   "source": [
    "\n",
    "\n",
    "#GET THE SEASON SO IT CAN BE USED FOR AGGREGATIONS\n",
    "def determine_season(game_date):\n",
    "    year = game_date.year\n",
    "    if game_date.month < 8:\n",
    "        return str(year - 1)\n",
    "    return year\n",
    "if \"season\" not in plays.columns:\n",
    "    game_seasons = dict(( play[0], determine_season(play[1])) for play in plays[[\"game_id\", \"game_date\"]].drop_duplicates().values.tolist())\n",
    "    plays[\"season\"] = plays[\"game_id\"].apply(lambda x: game_seasons[x])\n",
    "\n",
    "\n",
    "\n",
    "\n",
    "#GET THE TYPES OF PLAYS. THES WILL BE THE RESPONSE/DEPENDENT VARIABLES\n",
    "plays[[\"pass_length\", \"pass_location\", \"run_location\", \"play_type\"]] = plays[[\"pass_length\", \"pass_location\", \"run_location\", \"play_type\"]].fillna(\"\")\n",
    "def determine_play_types(row):\n",
    "    play_type_simple,play_type_adv = \"\",\"\"\n",
    "    if row[\"play_type\"] == \"no_play\":\n",
    "        return [play_type_simple, play_type_adv]   \n",
    "\n",
    "    if row[\"qb_dropback\"]:\n",
    "        play_type_simple = \"pass\"\n",
    "        if row[\"qb_scramble\"]:\n",
    "            play_type_adv = \"scramble\"\n",
    "    elif row[\"play_type\"] == \"run\":\n",
    "        play_type_simple = \"run\"\n",
    "\n",
    "    if row[\"run_location\"]:\n",
    "        play_type_adv = \"run_\" + row[\"run_location\"]\n",
    "    if row[\"pass_length\"] and row[\"pass_location\"]:\n",
    "        play_type_adv = \"pass_\" + row[\"pass_length\"] + \"_\" + row[\"pass_location\"]\n",
    "    if row[\"qb_scramble\"]:\n",
    "        play_type_adv = \"pass_scramble\"\n",
    "    elif row[\"qb_dropback\"] and not row[\"pass_length\"]:\n",
    "        play_type_adv = \"pass_failure\"\n",
    "    return [play_type_simple, play_type_adv]\n",
    "\n",
    "full_play_types = plays.apply(lambda row: determine_play_types(row), axis=1)\n",
    " \n",
    "plays[[\"play_type_simple\", \"play_type_adv\"]] = pd.DataFrame(full_play_types.to_list(), index=plays.index)\n",
    "\n",
    "\n",
    "#Can Drop Irrelevant Plays Now\n",
    "plays = plays[(plays[\"play_type_simple\"].isin([\"run\", \"pass\"])) & (~plays[\"down\"].isna())]\n",
    "\n",
    "\n",
    "#Convert Home Team Possessions\n",
    "plays[\"is_home_team\"] = plays[\"posteam_type\"].apply(lambda x: 1 if x==\"home\" else 0)\n",
    "\n",
    "#Convert Half to Number\n",
    "plays[\"half\"] = plays[\"game_half\"].apply(lambda x: {\"Half1\": 1, \"Half2\": 2, \"Overtime\": 3}[x])\n",
    "\n",
    "#Convert Run Plays\n",
    "plays[\"was_run_play\"] = plays[\"play_type_simple\"].apply(lambda x: 1 if x==\"run\" else 0)\n",
    "\n",
    "\n",
    "\n"
   ]
  },
  {
   "cell_type": "code",
   "execution_count": 7,
   "metadata": {},
   "outputs": [],
   "source": [
    "\n",
    "#Aggregate previous team play selections and \n",
    "plays[\"season_cumul_run\"] = (\n",
    "    plays[\"play_type_simple\"].eq(\"run\")\n",
    "    .groupby([plays[\"season\"], plays[\"posteam\"]])\n",
    "    .cumsum()\n",
    "    .shift(1)\n",
    "    .fillna(0)\n",
    ")\n",
    "\n",
    "plays[\"season_cumul_run_yds\"] = (\n",
    "    plays[\"yards_gained\"]\n",
    "    .where(plays[\"play_type_simple\"] == \"run\", 0)\n",
    "    .groupby([plays[\"season\"], plays[\"posteam\"]])\n",
    "    .cumsum()\n",
    "    .shift(1)\n",
    "    .fillna(0)\n",
    ")\n",
    "\n",
    "plays[\"season_cumul_pass\"] = (\n",
    "    plays[\"play_type_simple\"].eq(\"pass\")\n",
    "    .groupby([plays[\"season\"], plays[\"posteam\"]])\n",
    "    .cumsum()\n",
    "    .shift(1)\n",
    "    .fillna(0)\n",
    ")\n",
    "\n",
    "plays[\"season_cumul_pass_yds\"] = (\n",
    "    plays[\"yards_gained\"]\n",
    "    .where(plays[\"play_type_simple\"] == \"pass\", 0)\n",
    "    .groupby([plays[\"season\"], plays[\"posteam\"]])\n",
    "    .cumsum()\n",
    "    .shift(1)\n",
    "    .fillna(0)\n",
    ")\n",
    "plays[\"season_cumul_run_avg\"] = np.where(\n",
    "    plays[\"season_cumul_run\"] == 0,\n",
    "    0,\n",
    "    plays[\"season_cumul_run_yds\"] / plays[\"season_cumul_run\"]\n",
    ")\n",
    "\n",
    "plays[\"season_cumul_pass_avg\"] = np.where(\n",
    "    plays[\"season_cumul_pass\"] == 0,\n",
    "    0,\n",
    "    plays[\"season_cumul_pass_yds\"] / plays[\"season_cumul_pass\"]\n",
    ")\n",
    "\n",
    "plays[\"season_run_play_percentage\"] = np.where(\n",
    "    (plays[\"season_cumul_run\"] + plays[\"season_cumul_pass\"]) == 0,\n",
    "    0,\n",
    "    plays[\"season_cumul_run\"] / (plays[\"season_cumul_run\"] + plays[\"season_cumul_pass\"])\n",
    ")\n",
    "\n",
    "\n",
    "\n",
    "#Every start of season, these can be set to 0\n",
    "cols = [\"season_cumul_pass_avg\", \"season_cumul_run_avg\", \"season_cumul_pass_yds\", \"season_cumul_run_yds\", \"season_run_play_percentage\"]\n",
    "plays[cols] = plays[cols].fillna(0)\n",
    "\n",
    "#When penalty occurs on last play of half, they redo without clock so they are null values\n",
    "plays[\"half_seconds_remaining\"] = plays[\"half_seconds_remaining\"].fillna(0)\n",
    "\n",
    "\n",
    "plays.to_csv(\"files/input/cleaned_plays.csv\", index=False)\n",
    "\n",
    "\n"
   ]
  },
  {
   "cell_type": "code",
   "execution_count": 8,
   "metadata": {},
   "outputs": [],
   "source": [
    "plays = pd.read_csv(\"files/input/cleaned_plays.csv\")\n"
   ]
  },
  {
   "cell_type": "code",
   "execution_count": 9,
   "metadata": {},
   "outputs": [
    {
     "name": "stdout",
     "output_type": "stream",
     "text": [
      "AUC Is  0.780671350029289\n"
     ]
    },
    {
     "data": {
      "image/png": "[encoded data removed]",
      "text/plain": [
       "<Figure size 864x720 with 1 Axes>"
      ]
     },
     "metadata": {
      "needs_background": "light"
     },
     "output_type": "display_data"
    }
   ],
   "source": [
    "\n",
    "INITIAL_PREDICTOR_COLUMNS = [\"season_cumul_run_avg\", \"season_cumul_pass_avg\", \"season_run_play_percentage\", \"is_home_team\", \"yardline_100\", \"half_seconds_remaining\", \"drive\", \"half\", \"down\", \"ydstogo\", \"shotgun\", \"score_differential\"]\n",
    "\n",
    "\n",
    "#SET UP TRAINING SPLIT \n",
    "x = plays[INITIAL_PREDICTOR_COLUMNS]\n",
    "y = plays[\"was_run_play\"]\n",
    "x_train,x_test,y_train,y_test = train_test_split(x,y, test_size = 0.8, random_state=22)\n",
    "\n",
    "LogReg = LogisticRegression(solver=\"liblinear\").fit(x_train, y_train.ravel())\n",
    "\n",
    "yhat = LogReg.predict_proba(x_test)\n",
    "yhat_prob = yhat[:,1]\n",
    "false_positive,true_positive, trash = roc_curve(y_test, yhat_prob)\n",
    "\n",
    "plt.figure(figsize=(12,10))\n",
    "plt.plot(false_positive, true_positive, color=\"green\", label=\"ROC\")\n",
    "\n",
    "plt.xlabel(\"False Positive\")\n",
    "plt.ylabel(\"True Positive\")\n",
    "plt.legend()\n",
    "print(\"AUC Is \", roc_auc_score(y_test, yhat_prob))\n",
    "plt.show()\n",
    "\n"
   ]
  },
  {
   "cell_type": "code",
   "execution_count": 10,
   "metadata": {},
   "outputs": [
    {
     "name": "stdout",
     "output_type": "stream",
     "text": [
      "Optimization terminated successfully.\n",
      "         Current function value: 0.548144\n",
      "         Iterations 6\n",
      "                           Logit Regression Results                           \n",
      "==============================================================================\n",
      "Dep. Variable:           was_run_play   No. Observations:                63738\n",
      "Model:                          Logit   Df Residuals:                    63725\n",
      "Method:                           MLE   Df Model:                           12\n",
      "Date:                Sat, 05 Apr 2025   Pseudo R-squ.:                  0.1834\n",
      "Time:                        11:31:52   Log-Likelihood:                -34938.\n",
      "converged:                       True   LL-Null:                       -42786.\n",
      "Covariance Type:            nonrobust   LLR p-value:                     0.000\n",
      "==============================================================================================\n",
      "                                 coef    std err          z      P>|z|      [0.025      0.975]\n",
      "----------------------------------------------------------------------------------------------\n",
      "const                          2.1359      0.095     22.569      0.000       1.950       2.321\n",
      "season_cumul_run_avg           0.0157      0.009      1.758      0.079      -0.002       0.033\n",
      "season_cumul_pass_avg         -0.0442      0.007     -6.354      0.000      -0.058      -0.031\n",
      "season_run_play_percentage     0.5670      0.140      4.043      0.000       0.292       0.842\n",
      "is_home_team                  -0.0518      0.019     -2.780      0.005      -0.088      -0.015\n",
      "yardline_100                  -0.0012      0.000     -3.064      0.002      -0.002      -0.000\n",
      "half_seconds_remaining         0.0002   2.89e-05      7.224      0.000       0.000       0.000\n",
      "drive                          0.0078      0.004      1.940      0.052   -7.87e-05       0.016\n",
      "half                          -0.0510      0.049     -1.032      0.302      -0.148       0.046\n",
      "down                          -0.6161      0.014    -43.022      0.000      -0.644      -0.588\n",
      "ydstogo                       -0.0980      0.003    -31.612      0.000      -0.104      -0.092\n",
      "shotgun                       -1.5681      0.019    -81.071      0.000      -1.606      -1.530\n",
      "score_differential             0.0278      0.001     30.262      0.000       0.026       0.030\n",
      "==============================================================================================\n"
     ]
    }
   ],
   "source": [
    "#Maybe Remove Bad Predictors?\n",
    "logit = sm.Logit(y_train, sm.add_constant(x_train)).fit()\n",
    "print(logit.summary())"
   ]
  },
  {
   "cell_type": "code",
   "execution_count": 11,
   "metadata": {},
   "outputs": [
    {
     "name": "stdout",
     "output_type": "stream",
     "text": [
      "AUC Is  0.7804823288911941\n"
     ]
    },
    {
     "data": {
      "image/png": "[encoded data removed]",
      "text/plain": [
       "<Figure size 864x720 with 1 Axes>"
      ]
     },
     "metadata": {
      "needs_background": "light"
     },
     "output_type": "display_data"
    }
   ],
   "source": [
    "new_predictors = list(set(INITIAL_PREDICTOR_COLUMNS) - {\"season_cumul_run_avg\", \"drive\", \"half\" })\n",
    "\n",
    "x = plays[new_predictors]\n",
    "y = plays[\"was_run_play\"]\n",
    "x_train,x_test,y_train,y_test = train_test_split(x,y, test_size = 0.8, random_state=22)\n",
    "\n",
    "LogReg = LogisticRegression(solver=\"liblinear\").fit(x_train, y_train.ravel())\n",
    "\n",
    "yhat = LogReg.predict_proba(x_test)\n",
    "yhat_prob = yhat[:,1]\n",
    "false_positive,true_positive, trash = roc_curve(y_test, yhat_prob)\n",
    "\n",
    "plt.figure(figsize=(12,10))\n",
    "plt.plot(false_positive, true_positive, color=\"green\", label=\"ROC\")\n",
    "\n",
    "plt.xlabel(\"False Positive\")\n",
    "plt.ylabel(\"True Positive\")\n",
    "plt.legend()\n",
    "print(\"AUC Is \", roc_auc_score(y_test, yhat_prob))\n",
    "plt.show()"
   ]
  },
  {
   "cell_type": "code",
   "execution_count": 12,
   "metadata": {},
   "outputs": [
    {
     "name": "stdout",
     "output_type": "stream",
     "text": [
      "2017: 0.79\n",
      "2015: 0.79\n",
      "2012: 0.79\n",
      "2014: 0.78\n",
      "2010: 0.78\n",
      "2016: 0.78\n",
      "2018: 0.78\n",
      "2013: 0.78\n",
      "2011: 0.78\n",
      "2009: 0.77\n"
     ]
    }
   ],
   "source": [
    "seasons = plays[\"season\"].unique()\n",
    "season_AUCs = {}\n",
    "\n",
    "for season in seasons:\n",
    "    x = plays[plays[\"season\"] == season][INITIAL_PREDICTOR_COLUMNS]\n",
    "    y = plays[plays[\"season\"] == season][\"was_run_play\"]\n",
    "    x_train,x_test,y_train,y_test = train_test_split(x,y, test_size = 0.8, random_state=22)\n",
    "\n",
    "    LogReg = LogisticRegression(solver=\"liblinear\").fit(x_train, y_train.ravel())\n",
    "\n",
    "    yhat = LogReg.predict_proba(x_test)\n",
    "    yhat_prob = yhat[:,1]\n",
    "    season_AUCs[season] = roc_auc_score(y_test, yhat_prob)\n",
    "    \n",
    "    \n",
    "for k,v in dict(sorted(season_AUCs.items(), key=lambda item: item[1], reverse=True)).items():\n",
    "    print(f\"{k}: {round(v, 2)}\")"
   ]
  },
  {
   "cell_type": "code",
   "execution_count": 13,
   "metadata": {},
   "outputs": [
    {
     "data": {
      "image/png": "[encoded data removed]",
      "text/plain": [
       "<Figure size 720x864 with 1 Axes>"
      ]
     },
     "metadata": {
      "needs_background": "light"
     },
     "output_type": "display_data"
    }
   ],
   "source": [
    "plays_2018 = plays[plays[\"season\"] == 2018]\n",
    "\n",
    "teams = plays_2018[\"posteam\"].unique()\n",
    "team_AUCs = {}\n",
    "\n",
    "for team in teams:\n",
    "    x = plays_2018[plays_2018[\"posteam\"] == team][INITIAL_PREDICTOR_COLUMNS]\n",
    "    y = plays_2018[plays_2018[\"posteam\"] == team][\"was_run_play\"]\n",
    "    x_train,x_test,y_train,y_test = train_test_split(x,y, test_size = 0.8, random_state=22)\n",
    "\n",
    "    LogReg = LogisticRegression(solver=\"liblinear\").fit(x_train, y_train.ravel())\n",
    "\n",
    "    yhat = LogReg.predict_proba(x_test)\n",
    "    yhat_prob = yhat[:,1]\n",
    "    team_AUCs[team] = roc_auc_score(y_test, yhat_prob)\n",
    "    \n",
    "# Plot\n",
    "sorted_aucs = dict(sorted(team_AUCs.items(), key=lambda item: item[1], reverse=True))\n",
    "teams = list(sorted_aucs.keys())\n",
    "aucs = list(sorted_aucs.values())\n",
    "\n",
    "# Plot horizontal bars\n",
    "plt.figure(figsize=(10, 12))\n",
    "bars = plt.barh(teams, aucs, color=\"darkblue\")\n",
    "plt.xlabel(\"AUC Score\")\n",
    "plt.title(\"Team-Level AUC Scores (2018)\")\n",
    "plt.xlim(0.5, 1.0)\n",
    "plt.gca().invert_yaxis()  # Highest AUC at top\n",
    "\n",
    "# Annotate each bar with its AUC value\n",
    "for bar, value in zip(bars, aucs):\n",
    "    plt.text(value + 0.01, bar.get_y() + bar.get_height() / 2,\n",
    "             f\"{value:.2f}\", va=\"center\", fontsize=9)\n",
    "\n",
    "plt.tight_layout()\n",
    "plt.show()\n",
    "\n",
    "    \n"
   ]
  },
  {
   "cell_type": "markdown",
   "metadata": {},
   "source": [
    "### Conclusions\n",
    "\n",
    "- We can make reasonably accurate run vs pass predictions using Logistic Regression.  \n",
    "- The model shows relatively consistent predictive performance across different seasons.  \n",
    "- Prediction accuracy varies by team — it performs noticeably better for some teams and worse for others.\n"
   ]
  },
  {
   "cell_type": "markdown",
   "metadata": {},
   "source": []
  }
 ],
 "metadata": {
  "kernelspec": {
   "display_name": "Python 3",
   "language": "python",
   "name": "python3"
  },
  "language_info": {
   "codemirror_mode": {
    "name": "ipython",
    "version": 3
   },
   "file_extension": ".py",
   "mimetype": "text/x-python",
   "name": "python",
   "nbconvert_exporter": "python",
   "pygments_lexer": "ipython3",
   "version": "3.8.10"
  }
 },
 "nbformat": 4,
 "nbformat_minor": 2
}
