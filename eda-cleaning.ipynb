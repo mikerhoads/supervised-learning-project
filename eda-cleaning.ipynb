{
 "cells": [
  {
   "cell_type": "code",
   "execution_count": 118,
   "metadata": {},
   "outputs": [],
   "source": [
    "import csv, os, zipfile, datetime, re\n",
    "import pandas as pd\n",
    "import numpy as np"
   ]
  },
  {
   "cell_type": "code",
   "execution_count": null,
   "metadata": {},
   "outputs": [
    {
     "name": "stderr",
     "output_type": "stream",
     "text": [
      "/var/folders/0p/p8g1hvy94_q9bd228nd5dfyr0000gn/T/ipykernel_84513/3609961205.py:2: DtypeWarning: Columns (42,166,167,168,169,174,175,178,179,182,183,188,189,190,191,194,195,203,204,205,218,219,220,231,232,233,238,240,241,249) have mixed types. Specify dtype option on import or set low_memory=False.\n",
      "  plays = pd.read_csv(\"files/input/NFL Play by Play 2009-2018 (v5).csv\")\n"
     ]
    },
    {
     "name": "stdout",
     "output_type": "stream",
     "text": [
      "['play_id', 'game_id', 'home_team', 'away_team', 'posteam', 'posteam_type', 'defteam', 'side_of_field', 'yardline_100', 'game_date', 'quarter_seconds_remaining', 'half_seconds_remaining', 'game_seconds_remaining', 'game_half', 'quarter_end', 'drive', 'sp', 'qtr', 'down', 'goal_to_go', 'time', 'yrdln', 'ydstogo', 'ydsnet', 'desc', 'play_type', 'yards_gained', 'shotgun', 'no_huddle', 'qb_dropback', 'qb_kneel', 'qb_spike', 'qb_scramble', 'pass_length', 'pass_location', 'air_yards', 'yards_after_catch', 'run_location', 'run_gap', 'field_goal_result', 'kick_distance', 'extra_point_result', 'two_point_conv_result', 'home_timeouts_remaining', 'away_timeouts_remaining', 'timeout', 'timeout_team', 'td_team', 'posteam_timeouts_remaining', 'defteam_timeouts_remaining', 'total_home_score', 'total_away_score', 'posteam_score', 'defteam_score', 'score_differential', 'posteam_score_post', 'defteam_score_post', 'score_differential_post', 'no_score_prob', 'opp_fg_prob', 'opp_safety_prob', 'opp_td_prob', 'fg_prob', 'safety_prob', 'td_prob', 'extra_point_prob', 'two_point_conversion_prob', 'ep', 'epa', 'total_home_epa', 'total_away_epa', 'total_home_rush_epa', 'total_away_rush_epa', 'total_home_pass_epa', 'total_away_pass_epa', 'air_epa', 'yac_epa', 'comp_air_epa', 'comp_yac_epa', 'total_home_comp_air_epa', 'total_away_comp_air_epa', 'total_home_comp_yac_epa', 'total_away_comp_yac_epa', 'total_home_raw_air_epa', 'total_away_raw_air_epa', 'total_home_raw_yac_epa', 'total_away_raw_yac_epa', 'wp', 'def_wp', 'home_wp', 'away_wp', 'wpa', 'home_wp_post', 'away_wp_post', 'total_home_rush_wpa', 'total_away_rush_wpa', 'total_home_pass_wpa', 'total_away_pass_wpa', 'air_wpa', 'yac_wpa', 'comp_air_wpa', 'comp_yac_wpa', 'total_home_comp_air_wpa', 'total_away_comp_air_wpa', 'total_home_comp_yac_wpa', 'total_away_comp_yac_wpa', 'total_home_raw_air_wpa', 'total_away_raw_air_wpa', 'total_home_raw_yac_wpa', 'total_away_raw_yac_wpa', 'punt_blocked', 'first_down_rush', 'first_down_pass', 'first_down_penalty', 'third_down_converted', 'third_down_failed', 'fourth_down_converted', 'fourth_down_failed', 'incomplete_pass', 'interception', 'punt_inside_twenty', 'punt_in_endzone', 'punt_out_of_bounds', 'punt_downed', 'punt_fair_catch', 'kickoff_inside_twenty', 'kickoff_in_endzone', 'kickoff_out_of_bounds', 'kickoff_downed', 'kickoff_fair_catch', 'fumble_forced', 'fumble_not_forced', 'fumble_out_of_bounds', 'solo_tackle', 'safety', 'penalty', 'tackled_for_loss', 'fumble_lost', 'own_kickoff_recovery', 'own_kickoff_recovery_td', 'qb_hit', 'rush_attempt', 'pass_attempt', 'sack', 'touchdown', 'pass_touchdown', 'rush_touchdown', 'return_touchdown', 'extra_point_attempt', 'two_point_attempt', 'field_goal_attempt', 'kickoff_attempt', 'punt_attempt', 'fumble', 'complete_pass', 'assist_tackle', 'lateral_reception', 'lateral_rush', 'lateral_return', 'lateral_recovery', 'passer_player_id', 'passer_player_name', 'receiver_player_id', 'receiver_player_name', 'rusher_player_id', 'rusher_player_name', 'lateral_receiver_player_id', 'lateral_receiver_player_name', 'lateral_rusher_player_id', 'lateral_rusher_player_name', 'lateral_sack_player_id', 'lateral_sack_player_name', 'interception_player_id', 'interception_player_name', 'lateral_interception_player_id', 'lateral_interception_player_name', 'punt_returner_player_id', 'punt_returner_player_name', 'lateral_punt_returner_player_id', 'lateral_punt_returner_player_name', 'kickoff_returner_player_name', 'kickoff_returner_player_id', 'lateral_kickoff_returner_player_id', 'lateral_kickoff_returner_player_name', 'punter_player_id', 'punter_player_name', 'kicker_player_name', 'kicker_player_id', 'own_kickoff_recovery_player_id', 'own_kickoff_recovery_player_name', 'blocked_player_id', 'blocked_player_name', 'tackle_for_loss_1_player_id', 'tackle_for_loss_1_player_name', 'tackle_for_loss_2_player_id', 'tackle_for_loss_2_player_name', 'qb_hit_1_player_id', 'qb_hit_1_player_name', 'qb_hit_2_player_id', 'qb_hit_2_player_name', 'forced_fumble_player_1_team', 'forced_fumble_player_1_player_id', 'forced_fumble_player_1_player_name', 'forced_fumble_player_2_team', 'forced_fumble_player_2_player_id', 'forced_fumble_player_2_player_name', 'solo_tackle_1_team', 'solo_tackle_2_team', 'solo_tackle_1_player_id', 'solo_tackle_2_player_id', 'solo_tackle_1_player_name', 'solo_tackle_2_player_name', 'assist_tackle_1_player_id', 'assist_tackle_1_player_name', 'assist_tackle_1_team', 'assist_tackle_2_player_id', 'assist_tackle_2_player_name', 'assist_tackle_2_team', 'assist_tackle_3_player_id', 'assist_tackle_3_player_name', 'assist_tackle_3_team', 'assist_tackle_4_player_id', 'assist_tackle_4_player_name', 'assist_tackle_4_team', 'pass_defense_1_player_id', 'pass_defense_1_player_name', 'pass_defense_2_player_id', 'pass_defense_2_player_name', 'fumbled_1_team', 'fumbled_1_player_id', 'fumbled_1_player_name', 'fumbled_2_player_id', 'fumbled_2_player_name', 'fumbled_2_team', 'fumble_recovery_1_team', 'fumble_recovery_1_yards', 'fumble_recovery_1_player_id', 'fumble_recovery_1_player_name', 'fumble_recovery_2_team', 'fumble_recovery_2_yards', 'fumble_recovery_2_player_id', 'fumble_recovery_2_player_name', 'return_team', 'return_yards', 'penalty_team', 'penalty_player_id', 'penalty_player_name', 'penalty_yards', 'replay_or_challenge', 'replay_or_challenge_result', 'penalty_type', 'defensive_two_point_attempt', 'defensive_two_point_conv', 'defensive_extra_point_attempt', 'defensive_extra_point_conv']\n"
     ]
    }
   ],
   "source": [
    "\n",
    "#Data Source: https://www.kaggle.com/datasets/maxhorowitz/nflplaybyplay2009to2016\n",
    "plays = pd.read_csv(\"files/input/NFL Play by Play 2009-2018 (v5).csv\")\n",
    "\n"
   ]
  },
  {
   "cell_type": "code",
   "execution_count": 119,
   "metadata": {},
   "outputs": [],
   "source": [
    "#CONSTANTS\n",
    "\n",
    "KEEP_COLUMNS = {\n",
    "    \"play_id\": \"Int64\",\n",
    "    \"game_id\": \"string\",\n",
    "    \"home_team\": \"string\",\n",
    "    \"away_team\": \"string\",\n",
    "    \"posteam\": \"string\",\n",
    "    \"posteam_type\": \"string\",\n",
    "    \"side_of_field\": \"string\",\n",
    "    \"yardline_100\": \"Int64\",\n",
    "    \"game_date\": datetime,\n",
    "    \"half_seconds_remaining\": \"Int64\",\n",
    "    \"game_half\": \"string\",\n",
    "    \"drive\": \"Int64\",\n",
    "    \"down\": \"Int64\", \n",
    "    \"goal_to_go\": \"Int64\", \n",
    "    \"ydsnet\": \"Int64\",\n",
    "    \"desc\": \"string\",\n",
    "    \"ydstogo\": \"Int64\", \n",
    "    \"play_type\": \"string\",\n",
    "    \"yards_gained\": \"Int64\",\n",
    "    \"shotgun\": \t\"Int64\", \n",
    "    \"no_huddle\": \t\"Int64\",\n",
    "    \"qb_dropback\": \t\"Int64\",\n",
    "    \"qb_scramble\": \"Int64\",\n",
    "    \"pass_length\": \"Int64\", \n",
    "    \"pass_location\": \"string\",\n",
    "    \"run_location\": \"string\",\n",
    "    \"run_gap\": \"string\", \n",
    "    \"posteam_timeouts_remaining\": \"Int64\", \n",
    "    \"defteam_timeouts_remaining\": \"Int64\", \n",
    "    \"posteam_score\": \"Int64\", \n",
    "    \"defteam_score\": \"Int64\",\n",
    "    \"score_differential\": \"Int64\",\n",
    "\n",
    "}"
   ]
  },
  {
   "cell_type": "code",
   "execution_count": null,
   "metadata": {},
   "outputs": [
    {
     "name": "stderr",
     "output_type": "stream",
     "text": [
      "/var/folders/0p/p8g1hvy94_q9bd228nd5dfyr0000gn/T/ipykernel_84513/2821566951.py:3: DtypeWarning: Columns (42,166,167,168,169,174,175,178,179,182,183,188,189,190,191,194,195,203,204,205,218,219,220,231,232,233,238,240,241,249) have mixed types. Specify dtype option on import or set low_memory=False.\n",
      "  plays = pd.read_csv(\"files/input/NFL Play by Play 2009-2018 (v5).csv\")\n"
     ]
    },
    {
     "name": "stdout",
     "output_type": "stream",
     "text": [
      "449371\n"
     ]
    }
   ],
   "source": [
    "#Data Source: https://www.kaggle.com/datasets/maxhorowitz/nflplaybyplay2009to2016\n",
    "\n",
    "plays.sample(1000).to_csv(\"files/output/full_preview.csv\", index=False)\n",
    "#print(\"\\n\".join(f\"{i}. {c}\" for i,c in enumerate(plays.columns)))\n",
    "plays[KEEP_COLUMNS.keys()].sample(1000).to_csv(\"files/output/filtered_preview.csv\", index=False)\n",
    "plays[plays[\"game_id\"] == 2009091000].to_csv(\"files/output/one_game_preview.csv\", index=False)\n",
    "print(len(plays))\n",
    "plays[\"play_id\"] = range(1, len(plays) + 1)\n",
    "plays[\"yards_gained\"] = plays[\"yards_gained\"].fillna(0)\n",
    "\n"
   ]
  },
  {
   "cell_type": "code",
   "execution_count": null,
   "metadata": {},
   "outputs": [],
   "source": [
    "#Cleanup\n",
    "\n",
    "#REMOVE UNNECESSARY COLUMNS\n",
    "plays = plays[KEEP_COLUMNS.keys()]\n",
    "for col,dtype in KEEP_COLUMNS.items():\n",
    "    if dtype is datetime:\n",
    "        plays[col] = pd.to_datetime(plays[col])\n",
    "    else:\n",
    "        plays[col] = plays[col].astype(dtype, errors=\"ignore\")\n",
    "        \n",
    "plays[\"play_type\"] = plays[\"play_type\"].fillna(\"no_play\")\n",
    "plays[\"qb_dropback\"] = plays[\"qb_dropback\"].fillna(0)\n"
   ]
  },
  {
   "cell_type": "code",
   "execution_count": null,
   "metadata": {},
   "outputs": [],
   "source": []
  },
  {
   "cell_type": "code",
   "execution_count": 122,
   "metadata": {},
   "outputs": [],
   "source": [
    "\n",
    "\n",
    "#GET THE SEASON SO IT CAN BE USED FOR AGGREGATIONS\n",
    "def determine_season(game_date):\n",
    "    year = game_date.year\n",
    "    if game_date.month < 8:\n",
    "        return str(year - 1)\n",
    "    return year\n",
    "if \"season\" not in plays.columns:\n",
    "    game_seasons = dict(( play[0], determine_season(play[1])) for play in plays[[\"game_id\", \"game_date\"]].drop_duplicates().values.tolist())\n",
    "    plays[\"season\"] = plays[\"game_id\"].apply(lambda x: game_seasons[x])\n",
    "\n",
    "\n",
    "\n",
    "\n",
    "#GET THE TYPES OF PLAYS. THES WILL BE THE RESPONSE/DEPENDENT VARIABLES\n",
    "plays[[\"pass_length\", \"pass_location\", \"run_location\", \"play_type\"]] = plays[[\"pass_length\", \"pass_location\", \"run_location\", \"play_type\"]].fillna(\"\")\n",
    "def determine_play_types(row):\n",
    "    play_type_simple,play_type_adv = \"\",\"\"\n",
    "    if row[\"play_type\"] == \"no_play\":\n",
    "        return [play_type_simple, play_type_adv]   \n",
    "\n",
    "    if row[\"qb_dropback\"]:\n",
    "        play_type_simple = \"pass\"\n",
    "        if row[\"qb_scramble\"]:\n",
    "            play_type_adv = \"scramble\"\n",
    "    elif row[\"play_type\"] == \"run\":\n",
    "        play_type_simple = \"run\"\n",
    "\n",
    "    if row[\"run_location\"]:\n",
    "        play_type_adv = \"run_\" + row[\"run_location\"]\n",
    "    if row[\"pass_length\"] and row[\"pass_location\"]:\n",
    "        play_type_adv = \"pass_\" + row[\"pass_length\"] + \"_\" + row[\"pass_location\"]\n",
    "    if row[\"qb_scramble\"]:\n",
    "        play_type_adv = \"pass_scramble\"\n",
    "    elif row[\"qb_dropback\"] and not row[\"pass_length\"]:\n",
    "        play_type_adv = \"pass_failure\"\n",
    "    return [play_type_simple, play_type_adv]\n",
    "\n",
    "full_play_types = plays.apply(lambda row: determine_play_types(row), axis=1)\n",
    " \n",
    "plays[[\"play_type_simple\", \"play_type_adv\"]] = pd.DataFrame(full_play_types.to_list(), index=plays.index)\n",
    "\n",
    "\n",
    "#Can Drop Irrelevant Plays Now\n",
    "plays = plays[(plays[\"play_type_simple\"].isin([\"run\", \"pass\"])) & (~plays[\"down\"].isna())]\n",
    "\n",
    "\n",
    "#Convert Home Team Possessions\n",
    "plays[\"is_home_team\"] = plays[\"posteam_type\"].apply(lambda x: 1 if x==\"home\" else 0)\n",
    "\n",
    "#Convert Half to Number\n",
    "plays[\"half\"] = plays[\"game_half\"].apply(lambda x: {\"Half1\": 1, \"Half2\": 2, \"Overtime\": 3}[x])\n",
    "\n",
    "#Convert Run Plays\n",
    "plays[\"was_run_play\"] = plays[\"play_type_simple\"].apply(lambda x: 1 if x==\"run\" else 0)\n",
    "\n",
    "\n",
    "\n"
   ]
  },
  {
   "cell_type": "code",
   "execution_count": 123,
   "metadata": {},
   "outputs": [
    {
     "data": {
      "text/plain": [
       "'\\nDecided not to use this.\\ngame_aggregated = plays.groupby([\"game_id\", \"posteam\"], group_keys=False)\\n#DETERMINE IF THE PREVIOUS PLAY WAS A TIMEOUT\\ndef check_timeout_prior(group):\\n    prev_desc = group[\"desc\"].str.lower().shift(1)\\n    group[\"timeout_prior\"] = prev_desc.str.contains(\"timeout\", na=False)\\n    return group\\ngame_aggregated = game_aggregated.apply(check_timeout_prior)\\ntimeout_flags = game_aggregated[[\"play_id\", \"timeout_prior\"]]\\nplays = plays.merge(timeout_flags, on=\"play_id\")\\nplays.to_csv(\"files/output/checkpoint.csv\", index=False)\\n'"
      ]
     },
     "execution_count": 123,
     "metadata": {},
     "output_type": "execute_result"
    }
   ],
   "source": [
    "\"\"\"\n",
    "Decided not to use this.\n",
    "game_aggregated = plays.groupby([\"game_id\", \"posteam\"], group_keys=False)\n",
    "#DETERMINE IF THE PREVIOUS PLAY WAS A TIMEOUT\n",
    "def check_timeout_prior(group):\n",
    "    prev_desc = group[\"desc\"].str.lower().shift(1)\n",
    "    group[\"timeout_prior\"] = prev_desc.str.contains(\"timeout\", na=False)\n",
    "    return group\n",
    "game_aggregated = game_aggregated.apply(check_timeout_prior)\n",
    "timeout_flags = game_aggregated[[\"play_id\", \"timeout_prior\"]]\n",
    "plays = plays.merge(timeout_flags, on=\"play_id\")\n",
    "plays.to_csv(\"files/output/checkpoint.csv\", index=False)\n",
    "\"\"\""
   ]
  },
  {
   "cell_type": "code",
   "execution_count": 124,
   "metadata": {},
   "outputs": [],
   "source": [
    "\n",
    "#Aggregate previous team play selections and \n",
    "plays[\"season_cumul_run\"] = (\n",
    "    plays[\"play_type_simple\"].eq(\"run\")\n",
    "    .groupby([plays[\"season\"], plays[\"posteam\"]])\n",
    "    .cumsum()\n",
    "    .shift(1)\n",
    "    .fillna(0)\n",
    ")\n",
    "\n",
    "plays[\"season_cumul_run_yds\"] = (\n",
    "    plays[\"yards_gained\"]\n",
    "    .where(plays[\"play_type_simple\"] == \"run\", 0)\n",
    "    .groupby([plays[\"season\"], plays[\"posteam\"]])\n",
    "    .cumsum()\n",
    "    .shift(1)\n",
    "    .fillna(0)\n",
    ")\n",
    "\n",
    "plays[\"season_cumul_pass\"] = (\n",
    "    plays[\"play_type_simple\"].eq(\"pass\")\n",
    "    .groupby([plays[\"season\"], plays[\"posteam\"]])\n",
    "    .cumsum()\n",
    "    .shift(1)\n",
    "    .fillna(0)\n",
    ")\n",
    "\n",
    "plays[\"season_cumul_pass_yds\"] = (\n",
    "    plays[\"yards_gained\"]\n",
    "    .where(plays[\"play_type_simple\"] == \"pass\", 0)\n",
    "    .groupby([plays[\"season\"], plays[\"posteam\"]])\n",
    "    .cumsum()\n",
    "    .shift(1)\n",
    "    .fillna(0)\n",
    ")\n",
    "plays[\"season_cumul_run_avg\"] = np.where(\n",
    "    plays[\"season_cumul_run\"] == 0,\n",
    "    0,\n",
    "    plays[\"season_cumul_run_yds\"] / plays[\"season_cumul_run\"]\n",
    ")\n",
    "\n",
    "plays[\"season_cumul_pass_avg\"] = np.where(\n",
    "    plays[\"season_cumul_pass\"] == 0,\n",
    "    0,\n",
    "    plays[\"season_cumul_pass_yds\"] / plays[\"season_cumul_pass\"]\n",
    ")\n",
    "\n",
    "plays[\"season_run_play_percentage\"] = np.where(\n",
    "    (plays[\"season_cumul_run\"] + plays[\"season_cumul_pass\"]) == 0,\n",
    "    0,\n",
    "    plays[\"season_cumul_run\"] / (plays[\"season_cumul_run\"] + plays[\"season_cumul_pass\"])\n",
    ")\n",
    "\n",
    "\n",
    "\n",
    "#Every start of season, these can be set to 0\n",
    "cols = [\"season_cumul_pass_avg\", \"season_cumul_run_avg\", \"season_cumul_pass_yds\", \"season_cumul_run_yds\", \"season_run_play_percentage\"]\n",
    "plays[cols] = plays[cols].fillna(0)\n",
    "\n",
    "#When penalty occurs on last play of half, they redo without clock so they are null values\n",
    "plays[\"half_seconds_remaining\"] = plays[\"half_seconds_remaining\"].fillna(0)\n",
    "\n",
    "\n",
    "plays.to_csv(\"files/input/cleaned_plays.csv\", index=False)\n",
    "\n",
    "\n"
   ]
  },
  {
   "cell_type": "code",
   "execution_count": null,
   "metadata": {},
   "outputs": [],
   "source": []
  }
 ],
 "metadata": {
  "kernelspec": {
   "display_name": "Python 3",
   "language": "python",
   "name": "python3"
  },
  "language_info": {
   "codemirror_mode": {
    "name": "ipython",
    "version": 3
   },
   "file_extension": ".py",
   "mimetype": "text/x-python",
   "name": "python",
   "nbconvert_exporter": "python",
   "pygments_lexer": "ipython3",
   "version": "3.8.10"
  }
 },
 "nbformat": 4,
 "nbformat_minor": 2
}
