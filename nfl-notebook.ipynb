{
 "cells": [
  {
   "cell_type": "code",
   "execution_count": 1,
   "metadata": {},
   "outputs": [],
   "source": [
    "import csv, os, zipfile, functools, datetime, re\n",
    "import pandas as pd\n",
    "import numpy as np"
   ]
  },
  {
   "cell_type": "code",
   "execution_count": 2,
   "metadata": {},
   "outputs": [],
   "source": [
    "#CONSTANTS\n",
    "\n",
    "KEEP_COLUMNS = {\n",
    "    \"play_id\": \"string\",\n",
    "    \"game_id\": \"string\",\n",
    "    \"home_team\": \"string\",\n",
    "    \"away_team\": \"string\",\n",
    "    \"posteam\": \"string\",\n",
    "    \"posteam_type\": \"string\",\n",
    "    \"side_of_field\": \"string\",\n",
    "    \"yardline_100\": \"Int64\",\n",
    "    \"game_date\": datetime,\n",
    "    \"half_seconds_remaining\": \"Int64\",\n",
    "    \"game_seconds_remaining\": \"Int64\",\n",
    "    \"game_half\": \"string\",\n",
    "    \"drive\": \"Int64\",\n",
    "    \"down\": \"string\", \n",
    "    \"goal_to_go\": \"Int64\", \n",
    "    \"ydsnet\": \"Int64\",\n",
    "    \"desc\": \"string\",\n",
    "    \"ydstogo\": \"Int64\", \n",
    "    \"play_type\": \"string\",\n",
    "    \"yards_gained\": \"Int64\",\n",
    "    \"shotgun\": \t\"Int64\", \n",
    "    \"no_huddle\": \t\"Int64\",\n",
    "    \"qb_dropback\": \t\"Int64\",\n",
    "    \"qb_scramble\": \"Int64\",\n",
    "    \"pass_length\": \"Int64\", \n",
    "    \"pass_location\": \"string\",\n",
    "    \"run_location\": \"string\",\n",
    "    \"run_gap\": \"string\", \n",
    "    \"posteam_timeouts_remaining\": \"Int64\", \n",
    "    \"defteam_timeouts_remaining\": \"Int64\", \n",
    "    \"posteam_score\": \"Int64\", \n",
    "    \"defteam_score\": \"Int64\",\n",
    "    \"score_differential\": \"Int64\",\n",
    "\n",
    "}"
   ]
  },
  {
   "cell_type": "code",
   "execution_count": null,
   "metadata": {},
   "outputs": [],
   "source": []
  },
  {
   "cell_type": "code",
   "execution_count": 3,
   "metadata": {},
   "outputs": [
    {
     "name": "stderr",
     "output_type": "stream",
     "text": [
      "/var/folders/0p/p8g1hvy94_q9bd228nd5dfyr0000gn/T/ipykernel_78521/2856056326.py:3: DtypeWarning: Columns (42,166,167,168,169,174,175,178,179,182,183,188,189,190,191,194,195,203,204,205,218,219,220,231,232,233,238,240,241,249) have mixed types. Specify dtype option on import or set low_memory=False.\n",
      "  plays = pd.read_csv(\"files/input/NFL Play by Play 2009-2018 (v5).csv\")\n"
     ]
    },
    {
     "name": "stdout",
     "output_type": "stream",
     "text": [
      "449371\n"
     ]
    }
   ],
   "source": [
    "#Data Source: https://www.kaggle.com/datasets/maxhorowitz/nflplaybyplay2009to2016\n",
    "\n",
    "plays = pd.read_csv(\"files/input/NFL Play by Play 2009-2018 (v5).csv\")\n",
    "plays.sample(1000).to_csv(\"files/output/full_preview.csv\", index=False)\n",
    "#print(\"\\n\".join(f\"{i}. {c}\" for i,c in enumerate(plays.columns)))\n",
    "plays[KEEP_COLUMNS.keys()].sample(1000).to_csv(\"files/output/filtered_preview.csv\", index=False)\n",
    "plays[plays[\"game_id\"] == 2009091000].to_csv(\"files/output/one_game_preview.csv\", index=False)\n",
    "print(len(plays))\n",
    "plays[\"play_id\"] = range(1, len(plays) + 1)\n",
    "\n"
   ]
  },
  {
   "cell_type": "code",
   "execution_count": null,
   "metadata": {},
   "outputs": [],
   "source": [
    "\n"
   ]
  },
  {
   "cell_type": "code",
   "execution_count": 4,
   "metadata": {},
   "outputs": [],
   "source": [
    "#Cleanup\n",
    "\n",
    "#REMOVE UINTERESTIN COLUMNS\n",
    "plays = plays[KEEP_COLUMNS.keys()]\n",
    "for col,dtype in KEEP_COLUMNS.items():\n",
    "    if dtype is datetime:\n",
    "        plays[col] = pd.to_datetime(plays[col])\n",
    "    else:\n",
    "        plays[col] = plays[col].astype(dtype, errors=\"ignore\")\n",
    "        \n",
    "plays[\"play_type\"] = plays[\"play_type\"].fillna(\"no_play\")\n",
    "plays[\"qb_dropback\"] = plays[\"qb_dropback\"].fillna(0)\n",
    "#need simple play type run vs pass\n",
    "#need complex play type run left, run middle, run right, pass short left, pass short right, pass short middle, pass long left, pass long right, pass long middle\n",
    "#need Cumulative percentage run per game\n",
    "#need cumulative percentage run per season \n",
    "#need cumulative yards per pass play per game\n",
    "#need cumulative yards per run play per game\n",
    "#need cumulative yards per pass play per season\n",
    "#need cumulative yards per run play per season\n",
    "#CHECK IF PASSING PLAYS SHOW UP AS RUNNING PLAYS ON SCRAMBLE, USE QB DROP BACK\n",
    "\n",
    "\n",
    "#REMOVE UNINTERESTING ROWS"
   ]
  },
  {
   "cell_type": "code",
   "execution_count": 5,
   "metadata": {},
   "outputs": [
    {
     "name": "stdout",
     "output_type": "stream",
     "text": [
      "0\n"
     ]
    },
    {
     "data": {
      "text/html": [
       "<div>\n",
       "<style scoped>\n",
       "    .dataframe tbody tr th:only-of-type {\n",
       "        vertical-align: middle;\n",
       "    }\n",
       "\n",
       "    .dataframe tbody tr th {\n",
       "        vertical-align: top;\n",
       "    }\n",
       "\n",
       "    .dataframe thead th {\n",
       "        text-align: right;\n",
       "    }\n",
       "</style>\n",
       "<table border=\"1\" class=\"dataframe\">\n",
       "  <thead>\n",
       "    <tr style=\"text-align: right;\">\n",
       "      <th></th>\n",
       "      <th>play_id</th>\n",
       "      <th>game_id</th>\n",
       "      <th>home_team</th>\n",
       "      <th>away_team</th>\n",
       "      <th>posteam</th>\n",
       "      <th>posteam_type</th>\n",
       "      <th>side_of_field</th>\n",
       "      <th>yardline_100</th>\n",
       "      <th>game_date</th>\n",
       "      <th>half_seconds_remaining</th>\n",
       "      <th>...</th>\n",
       "      <th>qb_scramble</th>\n",
       "      <th>pass_length</th>\n",
       "      <th>pass_location</th>\n",
       "      <th>run_location</th>\n",
       "      <th>run_gap</th>\n",
       "      <th>posteam_timeouts_remaining</th>\n",
       "      <th>defteam_timeouts_remaining</th>\n",
       "      <th>posteam_score</th>\n",
       "      <th>defteam_score</th>\n",
       "      <th>score_differential</th>\n",
       "    </tr>\n",
       "  </thead>\n",
       "  <tbody>\n",
       "  </tbody>\n",
       "</table>\n",
       "<p>0 rows × 33 columns</p>\n",
       "</div>"
      ],
      "text/plain": [
       "Empty DataFrame\n",
       "Columns: [play_id, game_id, home_team, away_team, posteam, posteam_type, side_of_field, yardline_100, game_date, half_seconds_remaining, game_seconds_remaining, game_half, drive, down, goal_to_go, ydsnet, desc, ydstogo, play_type, yards_gained, shotgun, no_huddle, qb_dropback, qb_scramble, pass_length, pass_location, run_location, run_gap, posteam_timeouts_remaining, defteam_timeouts_remaining, posteam_score, defteam_score, score_differential]\n",
       "Index: []\n",
       "\n",
       "[0 rows x 33 columns]"
      ]
     },
     "execution_count": 5,
     "metadata": {},
     "output_type": "execute_result"
    }
   ],
   "source": [
    "#plays[\"play_type\"].value_counts()\n",
    "\n",
    "filtered = plays[\n",
    "    (plays[\"pass_location\"].isna() & ~plays[\"pass_length\"].isna()) |\n",
    "    (~plays[\"pass_location\"].isna() & plays[\"pass_length\"].isna())\n",
    "]\n",
    "print(len(filtered))\n",
    "filtered.head(5)\n"
   ]
  },
  {
   "cell_type": "code",
   "execution_count": 6,
   "metadata": {},
   "outputs": [],
   "source": [
    "#filtered[[\"pass_location\", \"pass_length\"]].isna().value_counts()\n",
    "#filtered[[\"pass_location\", \"pass_length\"]].head(10).to_dict(\"records\")\n",
    "\n",
    "#plays[plays[\"qb_dropback\"].isna()].head(5)[[\"play_id\", \"desc\"]]\n"
   ]
  },
  {
   "cell_type": "code",
   "execution_count": 7,
   "metadata": {},
   "outputs": [],
   "source": [
    "\n",
    "\n",
    "#GET THE SEASON SO IT CAN BE USED FOR AGGREGATIONS\n",
    "def determine_season(game_date):\n",
    "    year = game_date.year\n",
    "    if game_date.month < 8:\n",
    "        return str(year - 1)\n",
    "    return year\n",
    "if \"season\" not in plays.columns:\n",
    "    game_seasons = dict(( play[0], determine_season(play[1])) for play in plays[[\"game_id\", \"game_date\"]].drop_duplicates().values.tolist())\n",
    "    plays[\"season\"] = plays[\"game_id\"].apply(lambda x: game_seasons[x])\n",
    "\n",
    "\n",
    "#GET THE TYPES OF PLAYS. THES WILL BE THE RESPONSE/DEPENDENT VARIABLES\n",
    "plays[[\"pass_length\", \"pass_location\", \"run_location\", \"play_type\"]] = plays[[\"pass_length\", \"pass_location\", \"run_location\", \"play_type\"]].fillna(\"\")\n",
    "def determine_play_types(row):\n",
    "    play_type_simple,play_type_adv = \"\",\"\"\n",
    "    if row[\"play_type\"] == \"no_play\":\n",
    "        return [play_type_simple, play_type_adv]   \n",
    "\n",
    "    if row[\"qb_dropback\"]:\n",
    "        play_type_simple = \"pass\"\n",
    "        if row[\"qb_scramble\"]:\n",
    "            play_type_adv = \"scramble\"\n",
    "    elif row[\"play_type\"] == \"run\":\n",
    "        play_type_simple = \"run\"\n",
    "\n",
    "    if row[\"run_location\"]:\n",
    "        play_type_adv = \"run_\" + row[\"run_location\"]\n",
    "    if row[\"pass_length\"] and row[\"pass_location\"]:\n",
    "        play_type_adv = \"pass_\" + row[\"pass_length\"] + \"_\" + row[\"pass_location\"]\n",
    "    if row[\"qb_scramble\"]:\n",
    "        play_type_adv = \"pass_scramble\"\n",
    "    elif row[\"qb_dropback\"] and not row[\"pass_length\"]:\n",
    "        play_type_adv = \"pass_failure\"\n",
    "    return [play_type_simple, play_type_adv]\n",
    "full_play_types = plays.apply(lambda row: determine_play_types(row), axis=1)\n",
    " \n",
    "plays[[\"play_type_simple\", \"play_type_adv\"]] = pd.DataFrame(full_play_types.to_list(), index=plays.index)\n",
    "#Can Drop Irrelevant Plays Now\n",
    "plays = plays[plays[\"play_type_simple\"].isin([\"run\", \"pass\"])]\n",
    "\n",
    "\n"
   ]
  },
  {
   "cell_type": "code",
   "execution_count": 8,
   "metadata": {},
   "outputs": [
    {
     "data": {
      "text/plain": [
       "'\\nDecided not to use this.\\ngame_aggregated = plays.groupby([\"game_id\", \"posteam\"], group_keys=False)\\n#DETERMINE IF THE PREVIOUS PLAY WAS A TIMEOUT\\ndef check_timeout_prior(group):\\n    prev_desc = group[\"desc\"].str.lower().shift(1)\\n    group[\"timeout_prior\"] = prev_desc.str.contains(\"timeout\", na=False)\\n    return group\\ngame_aggregated = game_aggregated.apply(check_timeout_prior)\\ntimeout_flags = game_aggregated[[\"play_id\", \"timeout_prior\"]]\\nplays = plays.merge(timeout_flags, on=\"play_id\")\\nplays.to_csv(\"files/output/checkpoint.csv\", index=False)\\n'"
      ]
     },
     "execution_count": 8,
     "metadata": {},
     "output_type": "execute_result"
    }
   ],
   "source": [
    "\"\"\"\n",
    "Decided not to use this.\n",
    "game_aggregated = plays.groupby([\"game_id\", \"posteam\"], group_keys=False)\n",
    "#DETERMINE IF THE PREVIOUS PLAY WAS A TIMEOUT\n",
    "def check_timeout_prior(group):\n",
    "    prev_desc = group[\"desc\"].str.lower().shift(1)\n",
    "    group[\"timeout_prior\"] = prev_desc.str.contains(\"timeout\", na=False)\n",
    "    return group\n",
    "game_aggregated = game_aggregated.apply(check_timeout_prior)\n",
    "timeout_flags = game_aggregated[[\"play_id\", \"timeout_prior\"]]\n",
    "plays = plays.merge(timeout_flags, on=\"play_id\")\n",
    "plays.to_csv(\"files/output/checkpoint.csv\", index=False)\n",
    "\"\"\""
   ]
  },
  {
   "cell_type": "code",
   "execution_count": 12,
   "metadata": {},
   "outputs": [],
   "source": [
    "\n",
    "plays[\"season_cumul_run\"] = (\n",
    "    plays[\"play_type_simple\"].eq(\"run\")\n",
    "    .groupby([plays[\"season\"], plays[\"posteam\"]])\n",
    "    .cumsum()\n",
    ")\n",
    "plays[\"season_cumul_run_yds\"] = (\n",
    "    plays[\"yards_gained\"]\n",
    "    .where(plays[\"play_type_simple\"] == \"run\", 0)\n",
    "    .groupby([plays[\"season\"], plays[\"posteam\"]])\n",
    "    .cumsum()\n",
    ")\n",
    "plays[\"season_cumul_pass\"] = (\n",
    "    plays[\"play_type_simple\"].eq(\"pass\")\n",
    "    .groupby([plays[\"season\"], plays[\"posteam\"]])\n",
    "    .cumsum()\n",
    ")\n",
    "plays[\"season_cumul_pass_yds\"] = (\n",
    "    plays[\"yards_gained\"]\n",
    "    .where(plays[\"play_type_simple\"] == \"pass\", 0)\n",
    "    .groupby([plays[\"season\"], plays[\"posteam\"]])\n",
    "    .cumsum()\n",
    ")\n",
    "plays[\"season_cumul_run_avg\"] = plays[\"season_cumul_run_yds\"] / plays[\"season_cumul_run\"]\n",
    "plays[\"season_cumul_pass_avg\"] = plays[\"season_cumul_pass_yds\"] / plays[\"season_cumul_pass\"]\n",
    "\n",
    "\n",
    "\n",
    "\n",
    "\n",
    "#season_aggregated = plays.groupby([\"season\", \"posteam\"])\n",
    "\n",
    "\n",
    "\n",
    "#plays = pd.merge()\n"
   ]
  },
  {
   "cell_type": "code",
   "execution_count": null,
   "metadata": {},
   "outputs": [
    {
     "data": {
      "text/plain": [
       "319369"
      ]
     },
     "execution_count": 11,
     "metadata": {},
     "output_type": "execute_result"
    }
   ],
   "source": []
  },
  {
   "cell_type": "code",
   "execution_count": null,
   "metadata": {},
   "outputs": [
    {
     "data": {
      "text/plain": [
       "436129"
      ]
     },
     "execution_count": 72,
     "metadata": {},
     "output_type": "execute_result"
    }
   ],
   "source": []
  },
  {
   "cell_type": "code",
   "execution_count": null,
   "metadata": {},
   "outputs": [],
   "source": [
    "#TRAINING SET 1 FIRST 80% OF EACH GAME\n",
    "#TRAININT SET 2 FIRST 80% OF EACH SEASON"
   ]
  },
  {
   "cell_type": "code",
   "execution_count": null,
   "metadata": {},
   "outputs": [],
   "source": []
  }
 ],
 "metadata": {
  "kernelspec": {
   "display_name": "Python 3",
   "language": "python",
   "name": "python3"
  },
  "language_info": {
   "codemirror_mode": {
    "name": "ipython",
    "version": 3
   },
   "file_extension": ".py",
   "mimetype": "text/x-python",
   "name": "python",
   "nbconvert_exporter": "python",
   "pygments_lexer": "ipython3",
   "version": "3.8.10"
  }
 },
 "nbformat": 4,
 "nbformat_minor": 2
}
